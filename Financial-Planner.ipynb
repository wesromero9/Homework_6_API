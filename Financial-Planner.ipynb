{
 "cells": [
  {
   "cell_type": "code",
   "execution_count": 1,
   "id": "2813f748",
   "metadata": {},
   "outputs": [],
   "source": [
    "# Initial imports\n",
    "import os\n",
    "import requests\n",
    "import pandas as pd\n",
    "from dotenv import load_dotenv\n",
    "import alpaca_trade_api as tradeapi\n",
    "from MCForecastTools import MCSimulation\n",
    "\n",
    "%matplotlib inline"
   ]
  },
  {
   "cell_type": "code",
   "execution_count": 3,
   "id": "0a6013e9",
   "metadata": {},
   "outputs": [
    {
     "data": {
      "text/plain": [
       "True"
      ]
     },
     "execution_count": 3,
     "metadata": {},
     "output_type": "execute_result"
    }
   ],
   "source": [
    "# Load .env enviroment variables\n",
    "load_dotenv()"
   ]
  },
  {
   "cell_type": "markdown",
   "id": "1d94213f",
   "metadata": {},
   "source": [
    "# **Part 1 - Personal Finance Planner Application**"
   ]
  },
  {
   "cell_type": "markdown",
   "id": "0236a5c3",
   "metadata": {},
   "source": [
    "**1.** Average household income for each member of credit union is $12,000"
   ]
  },
  {
   "cell_type": "markdown",
   "id": "9b467a97",
   "metadata": {},
   "source": [
    "**2.** Every union member has a savings portfolio composed of cryptocurrencies, stocks and bonds:\n",
    "* Crypto Assests:\n",
    "    * BTC:1.2\n",
    "    * ETH:5.3\n",
    "* Stock Assets:\n",
    "    * SPY:50\n",
    "* Bond Assets:\n",
    "    * AGG:200"
   ]
  },
  {
   "cell_type": "markdown",
   "id": "dd455d53",
   "metadata": {},
   "source": [
    "### Collect Crypto Prices Using the ***requests*** Library"
   ]
  },
  {
   "cell_type": "code",
   "execution_count": 4,
   "id": "8dce12dc",
   "metadata": {},
   "outputs": [],
   "source": [
    "# Set current amount of crypto assets\n",
    "member_btc = 1.2\n",
    "member_eth = 5.3"
   ]
  },
  {
   "cell_type": "code",
   "execution_count": 5,
   "id": "2622c650",
   "metadata": {},
   "outputs": [],
   "source": [
    "# Crypto API URLs\n",
    "btc_url = \"https://api.alternative.me/v2/ticker/Bitcoin/?convert=CAD\"\n",
    "eth_url = \"https://api.alternative.me/v2/ticker/Ethereum/?convert=CAD\""
   ]
  },
  {
   "cell_type": "code",
   "execution_count": 6,
   "id": "3c585979",
   "metadata": {},
   "outputs": [
    {
     "name": "stdout",
     "output_type": "stream",
     "text": [
      "{\n",
      "    \"data\": {\n",
      "        \"1\": {\n",
      "            \"id\": 1,\n",
      "            \"name\": \"Bitcoin\",\n",
      "            \"symbol\": \"BTC\",\n",
      "            \"website_slug\": \"bitcoin\",\n",
      "            \"rank\": 1,\n",
      "            \"circulating_supply\": 18830075,\n",
      "            \"total_supply\": 18830075,\n",
      "            \"max_supply\": 21000000,\n",
      "            \"quotes\": {\n",
      "                \"USD\": {\n",
      "                    \"price\": 43589.0,\n",
      "                    \"volume_24h\": 32639993143,\n",
      "                    \"market_cap\": 820534651125,\n",
      "                    \"percentage_change_1h\": 0.787801814102908,\n",
      "                    \"percentage_change_24h\": 2.80722500481036,\n",
      "                    \"percentage_change_7d\": 0.0045498559060374,\n",
      "                    \"percent_change_1h\": 0.787801814102908,\n",
      "                    \"percent_change_24h\": 2.80722500481036,\n",
      "                    \"percent_change_7d\": 0.0045498559060374\n",
      "                },\n",
      "                \"CAD\": {\n",
      "                    \"price\": 55528.0271,\n",
      "                    \"volume_24h\": 41580087264.8677,\n",
      "                    \"market_cap\": 1045279092068.14,\n",
      "                    \"percent_change_1h\": 0.787801814102908,\n",
      "                    \"percent_change_24h\": 2.80722500481036,\n",
      "                    \"percent_change_7d\": 0.0045498559060374\n",
      "                }\n",
      "            },\n",
      "            \"last_updated\": 1632976723\n",
      "        }\n",
      "    },\n",
      "    \"metadata\": {\n",
      "        \"timestamp\": 1632976723,\n",
      "        \"num_cryptocurrencies\": 3105,\n",
      "        \"error\": null\n",
      "    }\n",
      "}\n",
      "{\n",
      "    \"data\": {\n",
      "        \"1027\": {\n",
      "            \"id\": 1027,\n",
      "            \"name\": \"Ethereum\",\n",
      "            \"symbol\": \"ETH\",\n",
      "            \"website_slug\": \"ethereum\",\n",
      "            \"rank\": 2,\n",
      "            \"circulating_supply\": 117731308,\n",
      "            \"total_supply\": 117731308,\n",
      "            \"max_supply\": 0,\n",
      "            \"quotes\": {\n",
      "                \"USD\": {\n",
      "                    \"price\": 3032.32,\n",
      "                    \"volume_24h\": 19821860281,\n",
      "                    \"market_cap\": 356856900396,\n",
      "                    \"percentage_change_1h\": 1.61698015519981,\n",
      "                    \"percentage_change_24h\": 3.90960506088509,\n",
      "                    \"percentage_change_7d\": -1.35958158225921,\n",
      "                    \"percent_change_1h\": 1.61698015519981,\n",
      "                    \"percent_change_24h\": 3.90960506088509,\n",
      "                    \"percent_change_7d\": -1.35958158225921\n",
      "                },\n",
      "                \"CAD\": {\n",
      "                    \"price\": 3862.872448,\n",
      "                    \"volume_24h\": 25251067811.9659,\n",
      "                    \"market_cap\": 454600005414.464,\n",
      "                    \"percent_change_1h\": 1.61698015519981,\n",
      "                    \"percent_change_24h\": 3.90960506088509,\n",
      "                    \"percent_change_7d\": -1.35958158225921\n",
      "                }\n",
      "            },\n",
      "            \"last_updated\": 1632976778\n",
      "        }\n",
      "    },\n",
      "    \"metadata\": {\n",
      "        \"timestamp\": 1632976778,\n",
      "        \"num_cryptocurrencies\": 3105,\n",
      "        \"error\": null\n",
      "    }\n",
      "}\n"
     ]
    }
   ],
   "source": [
    "#response_data = requests.get(btc_url).json\n",
    "response_data_btc = requests.get(btc_url)\n",
    "response_data_btc\n",
    "response_content_btc = response_data_btc.content\n",
    "response_content_btc\n",
    "data_btc = response_data_btc.json()\n",
    "import json\n",
    "print(json.dumps(data_btc, indent=4))\n",
    "response_data_eth = requests.get(eth_url)\n",
    "response_content_eth = response_data_eth.content\n",
    "data_eth = response_data_eth.json()\n",
    "import json\n",
    "print(json.dumps(data_eth, indent=4))"
   ]
  },
  {
   "cell_type": "code",
   "execution_count": 7,
   "id": "bea043b6",
   "metadata": {},
   "outputs": [
    {
     "ename": "NameError",
     "evalue": "name 'my_btc' is not defined",
     "output_type": "error",
     "traceback": [
      "\u001b[1;31m---------------------------------------------------------------------------\u001b[0m",
      "\u001b[1;31mNameError\u001b[0m                                 Traceback (most recent call last)",
      "\u001b[1;32mC:\\Users\\WESLEY~1\\AppData\\Local\\Temp/ipykernel_16836/3330682408.py\u001b[0m in \u001b[0;36m<module>\u001b[1;34m\u001b[0m\n\u001b[0;32m      2\u001b[0m \u001b[1;31m# Compute current value of my crpto\u001b[0m\u001b[1;33m\u001b[0m\u001b[1;33m\u001b[0m\u001b[1;33m\u001b[0m\u001b[0m\n\u001b[0;32m      3\u001b[0m \u001b[0mbtc_value\u001b[0m \u001b[1;33m=\u001b[0m \u001b[0mdata_btc\u001b[0m\u001b[1;33m[\u001b[0m\u001b[1;34m\"data\"\u001b[0m\u001b[1;33m]\u001b[0m\u001b[1;33m[\u001b[0m\u001b[1;34m\"1\"\u001b[0m\u001b[1;33m]\u001b[0m\u001b[1;33m[\u001b[0m\u001b[1;34m\"quotes\"\u001b[0m\u001b[1;33m]\u001b[0m\u001b[1;33m[\u001b[0m\u001b[1;34m\"USD\"\u001b[0m\u001b[1;33m]\u001b[0m\u001b[1;33m[\u001b[0m\u001b[1;34m\"price\"\u001b[0m\u001b[1;33m]\u001b[0m\u001b[1;33m\u001b[0m\u001b[1;33m\u001b[0m\u001b[0m\n\u001b[1;32m----> 4\u001b[1;33m \u001b[0mmy_btc_value\u001b[0m \u001b[1;33m=\u001b[0m \u001b[0mmy_btc\u001b[0m \u001b[1;33m*\u001b[0m \u001b[0mbtc_value\u001b[0m\u001b[1;33m\u001b[0m\u001b[1;33m\u001b[0m\u001b[0m\n\u001b[0m\u001b[0;32m      5\u001b[0m \u001b[0meth_value\u001b[0m \u001b[1;33m=\u001b[0m \u001b[0mdata_eth\u001b[0m\u001b[1;33m[\u001b[0m\u001b[1;34m\"data\"\u001b[0m\u001b[1;33m]\u001b[0m\u001b[1;33m[\u001b[0m\u001b[1;34m\"1027\"\u001b[0m\u001b[1;33m]\u001b[0m\u001b[1;33m[\u001b[0m\u001b[1;34m\"quotes\"\u001b[0m\u001b[1;33m]\u001b[0m\u001b[1;33m[\u001b[0m\u001b[1;34m\"USD\"\u001b[0m\u001b[1;33m]\u001b[0m\u001b[1;33m[\u001b[0m\u001b[1;34m\"price\"\u001b[0m\u001b[1;33m]\u001b[0m\u001b[1;33m\u001b[0m\u001b[1;33m\u001b[0m\u001b[0m\n\u001b[0;32m      6\u001b[0m \u001b[0mmy_eth_value\u001b[0m \u001b[1;33m=\u001b[0m \u001b[0mmy_eth\u001b[0m \u001b[1;33m*\u001b[0m \u001b[0meth_value\u001b[0m\u001b[1;33m\u001b[0m\u001b[1;33m\u001b[0m\u001b[0m\n",
      "\u001b[1;31mNameError\u001b[0m: name 'my_btc' is not defined"
     ]
    }
   ],
   "source": [
    "# Fetch current price\n",
    "# Compute current value of my crpto\n",
    "btc_value = data_btc[\"data\"][\"1\"][\"quotes\"][\"USD\"][\"price\"]\n",
    "my_btc_value = my_btc * btc_value\n",
    "eth_value = data_eth[\"data\"][\"1027\"][\"quotes\"][\"USD\"][\"price\"]\n",
    "my_eth_value = my_eth * eth_value\n",
    "# Print current crypto wallet balance\n",
    "print(f\"The current value of your {my_btc} BTC is ${my_btc_value:0.2f}\")\n",
    "print(f\"The current value of your {my_eth} ETH is ${my_eth_value:0.2f}\")"
   ]
  },
  {
   "cell_type": "code",
   "execution_count": null,
   "id": "8b06d448",
   "metadata": {},
   "outputs": [],
   "source": []
  }
 ],
 "metadata": {
  "kernelspec": {
   "display_name": "Python 3 (ipykernel)",
   "language": "python",
   "name": "python3"
  },
  "language_info": {
   "codemirror_mode": {
    "name": "ipython",
    "version": 3
   },
   "file_extension": ".py",
   "mimetype": "text/x-python",
   "name": "python",
   "nbconvert_exporter": "python",
   "pygments_lexer": "ipython3",
   "version": "3.8.8"
  }
 },
 "nbformat": 4,
 "nbformat_minor": 5
}
