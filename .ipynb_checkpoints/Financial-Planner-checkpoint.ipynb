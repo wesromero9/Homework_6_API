{
 "cells": [
  {
   "cell_type": "code",
   "execution_count": 2,
   "id": "2813f748",
   "metadata": {},
   "outputs": [],
   "source": [
    "# Initial imports\n",
    "import os\n",
    "import requests\n",
    "import json\n",
    "import pandas as pd\n",
    "from dotenv import load_dotenv\n",
    "import alpaca_trade_api as tradeapi\n",
    "from MCForecastTools import MCSimulation\n",
    "\n",
    "%matplotlib inline"
   ]
  },
  {
   "cell_type": "code",
   "execution_count": 3,
   "id": "0a6013e9",
   "metadata": {},
   "outputs": [
    {
     "data": {
      "text/plain": [
       "True"
      ]
     },
     "execution_count": 3,
     "metadata": {},
     "output_type": "execute_result"
    }
   ],
   "source": [
    "# Load .env enviroment variables\n",
    "load_dotenv()"
   ]
  },
  {
   "cell_type": "markdown",
   "id": "1d94213f",
   "metadata": {},
   "source": [
    "# **Part 1 - Personal Finance Planner Application**"
   ]
  },
  {
   "cell_type": "markdown",
   "id": "0236a5c3",
   "metadata": {},
   "source": [
    "**1.** Average household income for each member of credit union is $12,000"
   ]
  },
  {
   "cell_type": "markdown",
   "id": "9b467a97",
   "metadata": {},
   "source": [
    "**2.** Every union member has a savings portfolio composed of cryptocurrencies, stocks and bonds:\n",
    "* Crypto Assests:\n",
    "    * BTC:1.2\n",
    "    * ETH:5.3\n",
    "* Stock Assets:\n",
    "    * SPY:50\n",
    "* Bond Assets:\n",
    "    * AGG:200"
   ]
  },
  {
   "cell_type": "markdown",
   "id": "dd455d53",
   "metadata": {},
   "source": [
    "### Collect Crypto Prices Using the ***requests*** Library"
   ]
  },
  {
   "cell_type": "code",
   "execution_count": 4,
   "id": "8dce12dc",
   "metadata": {},
   "outputs": [],
   "source": [
    "# Set current amount of crypto assets\n",
    "member_btc = 1.2\n",
    "member_eth = 5.3"
   ]
  },
  {
   "cell_type": "code",
   "execution_count": 5,
   "id": "2622c650",
   "metadata": {},
   "outputs": [],
   "source": [
    "# Crypto API URLs\n",
    "btc_url = \"https://api.alternative.me/v2/ticker/Bitcoin/?convert=CAD\"\n",
    "eth_url = \"https://api.alternative.me/v2/ticker/Ethereum/?convert=CAD\""
   ]
  },
  {
   "cell_type": "code",
   "execution_count": 6,
   "id": "3c585979",
   "metadata": {
    "tags": []
   },
   "outputs": [
    {
     "name": "stdout",
     "output_type": "stream",
     "text": [
      "{\n",
      "    \"data\": {\n",
      "        \"1\": {\n",
      "            \"id\": 1,\n",
      "            \"name\": \"Bitcoin\",\n",
      "            \"symbol\": \"BTC\",\n",
      "            \"website_slug\": \"bitcoin\",\n",
      "            \"rank\": 1,\n",
      "            \"circulating_supply\": 18832743,\n",
      "            \"total_supply\": 18832743,\n",
      "            \"max_supply\": 21000000,\n",
      "            \"quotes\": {\n",
      "                \"USD\": {\n",
      "                    \"price\": 48097.0,\n",
      "                    \"volume_24h\": 31061852891,\n",
      "                    \"market_cap\": 904875714501,\n",
      "                    \"percentage_change_1h\": 0.208640068159628,\n",
      "                    \"percentage_change_24h\": 1.20156168316244,\n",
      "                    \"percentage_change_7d\": 12.5026961540783,\n",
      "                    \"percent_change_1h\": 0.208640068159628,\n",
      "                    \"percent_change_24h\": 1.20156168316244,\n",
      "                    \"percent_change_7d\": 12.5026961540783\n",
      "                },\n",
      "                \"CAD\": {\n",
      "                    \"price\": 60837.8953,\n",
      "                    \"volume_24h\": 39290137721.8259,\n",
      "                    \"market_cap\": 1144577291272.31,\n",
      "                    \"percent_change_1h\": 0.208640068159628,\n",
      "                    \"percent_change_24h\": 1.20156168316244,\n",
      "                    \"percent_change_7d\": 12.5026961540783\n",
      "                }\n",
      "            },\n",
      "            \"last_updated\": 1633193959\n",
      "        }\n",
      "    },\n",
      "    \"metadata\": {\n",
      "        \"timestamp\": 1633193959,\n",
      "        \"num_cryptocurrencies\": 3105,\n",
      "        \"error\": null\n",
      "    }\n",
      "}\n"
     ]
    }
   ],
   "source": [
    "# Give requests.get to a variable to then get the content\n",
    "btc_response_data = requests.get(btc_url)\n",
    "# .content shows the raw content from requests.get\n",
    "btc_response_content = btc_response_data.content\n",
    "# .json formats the content as a .json dict\n",
    "btc_data = btc_response_data.json()\n",
    "# json.dumps is like \"pprint\"\n",
    "print(json.dumps(btc_data, indent=4))"
   ]
  },
  {
   "cell_type": "code",
   "execution_count": 7,
   "id": "de13a287-45df-42be-8941-f4abe028fece",
   "metadata": {
    "tags": []
   },
   "outputs": [
    {
     "name": "stdout",
     "output_type": "stream",
     "text": [
      "{\n",
      "    \"data\": {\n",
      "        \"1027\": {\n",
      "            \"id\": 1027,\n",
      "            \"name\": \"Ethereum\",\n",
      "            \"symbol\": \"ETH\",\n",
      "            \"website_slug\": \"ethereum\",\n",
      "            \"rank\": 2,\n",
      "            \"circulating_supply\": 117765056,\n",
      "            \"total_supply\": 117765056,\n",
      "            \"max_supply\": 0,\n",
      "            \"quotes\": {\n",
      "                \"USD\": {\n",
      "                    \"price\": 3433.75,\n",
      "                    \"volume_24h\": 21029049449,\n",
      "                    \"market_cap\": 403484987352,\n",
      "                    \"percentage_change_1h\": 1.12844265427185,\n",
      "                    \"percentage_change_24h\": 5.08949142438038,\n",
      "                    \"percentage_change_7d\": 17.1631561450144,\n",
      "                    \"percent_change_1h\": 1.12844265427185,\n",
      "                    \"percent_change_24h\": 5.08949142438038,\n",
      "                    \"percent_change_7d\": 17.1631561450144\n",
      "                },\n",
      "                \"CAD\": {\n",
      "                    \"price\": 4343.350375,\n",
      "                    \"volume_24h\": 26599644648.0401,\n",
      "                    \"market_cap\": 510368160501.544,\n",
      "                    \"percent_change_1h\": 1.12844265427185,\n",
      "                    \"percent_change_24h\": 5.08949142438038,\n",
      "                    \"percent_change_7d\": 17.1631561450144\n",
      "                }\n",
      "            },\n",
      "            \"last_updated\": 1633193932\n",
      "        }\n",
      "    },\n",
      "    \"metadata\": {\n",
      "        \"timestamp\": 1633193932,\n",
      "        \"num_cryptocurrencies\": 3105,\n",
      "        \"error\": null\n",
      "    }\n",
      "}\n"
     ]
    }
   ],
   "source": [
    "# Give requests.get to a variable to then get the content\n",
    "eth_response_data = requests.get(eth_url)\n",
    "eth_response_content = eth_response_data.content\n",
    "eth_data = eth_response_data.json()\n",
    "print(json.dumps(eth_data, indent=4))"
   ]
  },
  {
   "cell_type": "code",
   "execution_count": 8,
   "id": "bea043b6",
   "metadata": {
    "tags": []
   },
   "outputs": [
    {
     "name": "stdout",
     "output_type": "stream",
     "text": [
      "The current value of your 1.2 BTC is $57716.40\n",
      "The current value of your 5.3 ETH is $18198.88\n"
     ]
    }
   ],
   "source": [
    "# Compute current value of my crpto (This is a Lists of Lists. Using btc_data to find the price)\n",
    "btc_value = btc_data[\"data\"][\"1\"][\"quotes\"][\"USD\"][\"price\"]\n",
    "member_btc_value = member_btc * btc_value\n",
    "# id for Ethereum is 1027 not 1\n",
    "eth_value = eth_data[\"data\"][\"1027\"][\"quotes\"][\"USD\"][\"price\"]\n",
    "member_eth_value = member_eth * eth_value\n",
    "# Print current crypto wallet balance using formatted string\n",
    "print(f\"The current value of your {member_btc} BTC is ${member_btc_value:0.2f}\")\n",
    "print(f\"The current value of your {member_eth} ETH is ${member_eth_value:0.2f}\")"
   ]
  },
  {
   "cell_type": "markdown",
   "id": "9796cd23-8b1f-41d5-96b1-fe863fdb9c15",
   "metadata": {},
   "source": [
    "### Collect Investments Data Using Alpaca: `SPY` (stocks) and `AGG` (bonds)"
   ]
  },
  {
   "cell_type": "code",
   "execution_count": 9,
   "id": "bf806dcf-c3e9-43ea-9eb8-9263e345aaed",
   "metadata": {},
   "outputs": [],
   "source": [
    "# Set current amount of crypto shares\n",
    "member_agg = 200\n",
    "member_spy = 50"
   ]
  },
  {
   "cell_type": "code",
   "execution_count": 10,
   "id": "52176e66-c422-496e-9cb5-db7d04db0318",
   "metadata": {},
   "outputs": [],
   "source": [
    "# Set Alpaca API key and secret\n",
    "alpaca_api_key = os.getenv(\"ALPACA_API_KEY\")\n",
    "alpaca_secret_key = os.getenv(\"ALPACA_SECRET_KEY\")\n",
    "# Create the Alpaca API object\n",
    "api = tradeapi.REST(alpaca_api_key, alpaca_secret_key, api_version = \"v2\")"
   ]
  },
  {
   "cell_type": "code",
   "execution_count": 11,
   "id": "828274a3-90aa-4d68-94a6-a19f3f4fc478",
   "metadata": {},
   "outputs": [
    {
     "name": "stdout",
     "output_type": "stream",
     "text": [
      "Alpaca Key Type: <class 'str'>\n",
      "Alpaca Secret Key type: <class 'str'>\n"
     ]
    }
   ],
   "source": [
    "# Verify that Alpaca Key and Secret were correctly loaded\n",
    "print(f\"Alpaca Key Type: {type(alpaca_api_key)}\")\n",
    "print(f\"Alpaca Secret Key type: {type(alpaca_api_key)}\")"
   ]
  },
  {
   "cell_type": "code",
   "execution_count": 12,
   "id": "c4368d9b-906d-4479-b4b4-204c4dcbf9d7",
   "metadata": {
    "tags": []
   },
   "outputs": [
    {
     "data": {
      "text/html": [
       "<div>\n",
       "<style scoped>\n",
       "    .dataframe tbody tr th:only-of-type {\n",
       "        vertical-align: middle;\n",
       "    }\n",
       "\n",
       "    .dataframe tbody tr th {\n",
       "        vertical-align: top;\n",
       "    }\n",
       "\n",
       "    .dataframe thead tr th {\n",
       "        text-align: left;\n",
       "    }\n",
       "</style>\n",
       "<table border=\"1\" class=\"dataframe\">\n",
       "  <thead>\n",
       "    <tr>\n",
       "      <th></th>\n",
       "      <th colspan=\"5\" halign=\"left\">AGG</th>\n",
       "      <th colspan=\"5\" halign=\"left\">SPY</th>\n",
       "    </tr>\n",
       "    <tr>\n",
       "      <th></th>\n",
       "      <th>open</th>\n",
       "      <th>high</th>\n",
       "      <th>low</th>\n",
       "      <th>close</th>\n",
       "      <th>volume</th>\n",
       "      <th>open</th>\n",
       "      <th>high</th>\n",
       "      <th>low</th>\n",
       "      <th>close</th>\n",
       "      <th>volume</th>\n",
       "    </tr>\n",
       "  </thead>\n",
       "  <tbody>\n",
       "    <tr>\n",
       "      <th>2021-10-01</th>\n",
       "      <td>114.82</td>\n",
       "      <td>115.06</td>\n",
       "      <td>114.79</td>\n",
       "      <td>115.02</td>\n",
       "      <td>6840179</td>\n",
       "      <td>430.98</td>\n",
       "      <td>436.0329</td>\n",
       "      <td>427.24</td>\n",
       "      <td>434.19</td>\n",
       "      <td>110774792</td>\n",
       "    </tr>\n",
       "  </tbody>\n",
       "</table>\n",
       "</div>"
      ],
      "text/plain": [
       "               AGG                                      SPY                    \\\n",
       "              open    high     low   close   volume    open      high     low   \n",
       "2021-10-01  114.82  115.06  114.79  115.02  6840179  430.98  436.0329  427.24   \n",
       "\n",
       "                               \n",
       "             close     volume  \n",
       "2021-10-01  434.19  110774792  "
      ]
     },
     "execution_count": 12,
     "metadata": {},
     "output_type": "execute_result"
    }
   ],
   "source": [
    "# Format current date as ISO format\n",
    "today = pd.Timestamp(\"2021-10-01\", tz=\"America/New_York\").isoformat()\n",
    "# Set the tickers\n",
    "tickers = [\"AGG\", \"SPY\"]\n",
    "# Set timefram to '1D\" for Alpaca API\n",
    "timeframe = \"1D\"\n",
    "# Get current closing prices for SPY and AGG from Alpacas get_barset function end today variable to get current close prices\n",
    "# (use a limit=1000 parameter to call the most recent 1000 days of data)\n",
    "df_portfolio = api.get_barset(\n",
    "    tickers,\n",
    "    timeframe,\n",
    "    start = today,\n",
    "    end = today,\n",
    "    limit = 1000\n",
    ").df\n",
    "# Drop the time component of the date\n",
    "df_portfolio.index=df_portfolio.index.date\n",
    "# Preview data\n",
    "df_portfolio.head()"
   ]
  },
  {
   "cell_type": "code",
   "execution_count": 13,
   "id": "422b1377-0868-496e-8cc1-b484f62db75f",
   "metadata": {},
   "outputs": [
    {
     "name": "stdout",
     "output_type": "stream",
     "text": [
      "Current AGG closing price: $115.02\n",
      "Current SPY closing price: $434.19\n"
     ]
    }
   ],
   "source": [
    "# Pick AGG and SPY close prices\n",
    "agg_close_price = float(df_portfolio[\"AGG\"][\"close\"])\n",
    "spy_close_price = float(df_portfolio[\"SPY\"][\"close\"])\n",
    "# Print AGG and SPY close prices\n",
    "print(f\"Current AGG closing price: ${agg_close_price}\")\n",
    "print(f\"Current SPY closing price: ${spy_close_price}\")"
   ]
  },
  {
   "cell_type": "code",
   "execution_count": 14,
   "id": "f1678f0f-c657-42fe-9604-e1aa2740fe51",
   "metadata": {},
   "outputs": [
    {
     "name": "stdout",
     "output_type": "stream",
     "text": [
      "The current value of your 50 SPY shares is $21709.50\n",
      "The current value of your 200 AGG shares is $23004.00\n"
     ]
    }
   ],
   "source": [
    "# Compute the current value of shares\n",
    "member_agg_value = member_agg * agg_close_price \n",
    "member_spy_value = member_spy * spy_close_price \n",
    "# Print current value of share\n",
    "print(f\"The current value of your {member_spy} SPY shares is ${member_spy_value:0.2f}\")\n",
    "print(f\"The current value of your {member_agg} AGG shares is ${member_agg_value:0.2f}\")"
   ]
  },
  {
   "cell_type": "markdown",
   "id": "6bb65989-8dcf-42db-9562-9ee76cb4b95a",
   "metadata": {},
   "source": [
    "# Savings Health Analysis"
   ]
  },
  {
   "cell_type": "code",
   "execution_count": 15,
   "id": "c48eb523-5177-4232-accf-f222904661a9",
   "metadata": {},
   "outputs": [
    {
     "data": {
      "text/html": [
       "<div>\n",
       "<style scoped>\n",
       "    .dataframe tbody tr th:only-of-type {\n",
       "        vertical-align: middle;\n",
       "    }\n",
       "\n",
       "    .dataframe tbody tr th {\n",
       "        vertical-align: top;\n",
       "    }\n",
       "\n",
       "    .dataframe thead th {\n",
       "        text-align: right;\n",
       "    }\n",
       "</style>\n",
       "<table border=\"1\" class=\"dataframe\">\n",
       "  <thead>\n",
       "    <tr style=\"text-align: right;\">\n",
       "      <th></th>\n",
       "      <th>amount</th>\n",
       "    </tr>\n",
       "  </thead>\n",
       "  <tbody>\n",
       "    <tr>\n",
       "      <th>crypto</th>\n",
       "      <td>75915.275</td>\n",
       "    </tr>\n",
       "    <tr>\n",
       "      <th>shares</th>\n",
       "      <td>44713.500</td>\n",
       "    </tr>\n",
       "  </tbody>\n",
       "</table>\n",
       "</div>"
      ],
      "text/plain": [
       "           amount\n",
       "crypto  75915.275\n",
       "shares  44713.500"
      ]
     },
     "execution_count": 15,
     "metadata": {},
     "output_type": "execute_result"
    }
   ],
   "source": [
    "# Set monthly househould income\n",
    "monthly_income = 12000\n",
    "# Consolidate financial assets data\n",
    "crypto_value = member_btc_value + member_eth_value\n",
    "shares_value = member_agg_value + member_spy_value\n",
    "# Create savings DataFrame\n",
    "Savings = {'amount':\n",
    "        [crypto_value, \n",
    "         shares_value]} \n",
    "df_savings = pd.DataFrame(Savings, index =['crypto', 'shares'])\n",
    "df_savings\n"
   ]
  },
  {
   "cell_type": "code",
   "execution_count": 16,
   "id": "845fa424-efcb-4c6c-a945-962a8973a310",
   "metadata": {},
   "outputs": [
    {
     "data": {
      "text/plain": [
       "<AxesSubplot:title={'center':'Composition of Personal Savings'}, ylabel='amount'>"
      ]
     },
     "execution_count": 16,
     "metadata": {},
     "output_type": "execute_result"
    },
    {
     "data": {
      "image/png": "[encoded data removed]",
      "text/plain": [
       "<Figure size 432x288 with 1 Axes>"
      ]
     },
     "metadata": {},
     "output_type": "display_data"
    }
   ],
   "source": [
    "# Plot savings pie chart\n",
    "df_savings.plot.pie(y=\"amount\", title=\"Composition of Personal Savings\")"
   ]
  },
  {
   "cell_type": "code",
   "execution_count": 17,
   "id": "1d77b475-8788-4e53-9b67-25dd718d74b9",
   "metadata": {},
   "outputs": [
    {
     "name": "stdout",
     "output_type": "stream",
     "text": [
      "Congratuations! You have enough money in your emergency fund.\n"
     ]
    }
   ],
   "source": [
    "# Set ideal emergency fund\n",
    "emergency_fund = monthly_income * 3\n",
    "# Calculate total amount of savings\n",
    "total_savings = crypto_value + shares_value\n",
    "# Validate saving health\n",
    "if emergency_fund < total_savings:\n",
    "        print(\"Congratuations! You have enough money in your emergency fund.\")\n",
    "elif emergency_fund == total_savings:\n",
    "        print(\"Congratulations! You have reach this financial goal\")\n",
    "else:\n",
    "        print(f\"You are {emergency_fund - total_savings} dollars away from reaching the goal\")"
   ]
  },
  {
   "cell_type": "markdown",
   "id": "0299d031-f396-45c0-a480-8a335ada8e54",
   "metadata": {},
   "source": [
    "## Part 2 - Retirement Planning\n",
    "\n",
    "### Monte Carlo Simulation"
   ]
  },
  {
   "cell_type": "code",
   "execution_count": 18,
   "id": "3250aa1e-22cc-4fc0-9038-81e4cca433c0",
   "metadata": {},
   "outputs": [],
   "source": [
    "# Set start and end dates of five years back from today.\n",
    "start_date = pd.Timestamp('2016-10-01', tz='America/New_York').isoformat()\n",
    "end_date = pd.Timestamp('2021-10-01', tz='America/New_York').isoformat()"
   ]
  },
  {
   "cell_type": "code",
   "execution_count": 19,
   "id": "ecabe39f-0fe5-4b49-a8e6-2d1877ad6d6a",
   "metadata": {},
   "outputs": [
    {
     "data": {
      "text/html": [
       "<div>\n",
       "<style scoped>\n",
       "    .dataframe tbody tr th:only-of-type {\n",
       "        vertical-align: middle;\n",
       "    }\n",
       "\n",
       "    .dataframe tbody tr th {\n",
       "        vertical-align: top;\n",
       "    }\n",
       "\n",
       "    .dataframe thead tr th {\n",
       "        text-align: left;\n",
       "    }\n",
       "</style>\n",
       "<table border=\"1\" class=\"dataframe\">\n",
       "  <thead>\n",
       "    <tr>\n",
       "      <th></th>\n",
       "      <th colspan=\"5\" halign=\"left\">AGG</th>\n",
       "      <th colspan=\"5\" halign=\"left\">SPY</th>\n",
       "    </tr>\n",
       "    <tr>\n",
       "      <th></th>\n",
       "      <th>open</th>\n",
       "      <th>high</th>\n",
       "      <th>low</th>\n",
       "      <th>close</th>\n",
       "      <th>volume</th>\n",
       "      <th>open</th>\n",
       "      <th>high</th>\n",
       "      <th>low</th>\n",
       "      <th>close</th>\n",
       "      <th>volume</th>\n",
       "    </tr>\n",
       "  </thead>\n",
       "  <tbody>\n",
       "    <tr>\n",
       "      <th>2021-09-27</th>\n",
       "      <td>115.21</td>\n",
       "      <td>115.3750</td>\n",
       "      <td>115.180</td>\n",
       "      <td>115.25</td>\n",
       "      <td>4433082</td>\n",
       "      <td>442.81</td>\n",
       "      <td>444.0500</td>\n",
       "      <td>441.90</td>\n",
       "      <td>442.68</td>\n",
       "      <td>51611925</td>\n",
       "    </tr>\n",
       "    <tr>\n",
       "      <th>2021-09-28</th>\n",
       "      <td>114.90</td>\n",
       "      <td>114.9999</td>\n",
       "      <td>114.695</td>\n",
       "      <td>114.78</td>\n",
       "      <td>6487248</td>\n",
       "      <td>439.69</td>\n",
       "      <td>440.0400</td>\n",
       "      <td>432.94</td>\n",
       "      <td>433.74</td>\n",
       "      <td>114959576</td>\n",
       "    </tr>\n",
       "    <tr>\n",
       "      <th>2021-09-29</th>\n",
       "      <td>114.97</td>\n",
       "      <td>115.0600</td>\n",
       "      <td>114.715</td>\n",
       "      <td>114.85</td>\n",
       "      <td>5099586</td>\n",
       "      <td>435.19</td>\n",
       "      <td>437.0400</td>\n",
       "      <td>433.85</td>\n",
       "      <td>434.44</td>\n",
       "      <td>69828191</td>\n",
       "    </tr>\n",
       "    <tr>\n",
       "      <th>2021-09-30</th>\n",
       "      <td>114.77</td>\n",
       "      <td>114.8600</td>\n",
       "      <td>114.690</td>\n",
       "      <td>114.83</td>\n",
       "      <td>4461194</td>\n",
       "      <td>436.02</td>\n",
       "      <td>436.7700</td>\n",
       "      <td>428.78</td>\n",
       "      <td>429.17</td>\n",
       "      <td>115315276</td>\n",
       "    </tr>\n",
       "    <tr>\n",
       "      <th>2021-10-01</th>\n",
       "      <td>114.82</td>\n",
       "      <td>115.0600</td>\n",
       "      <td>114.790</td>\n",
       "      <td>115.02</td>\n",
       "      <td>6840179</td>\n",
       "      <td>430.98</td>\n",
       "      <td>436.0329</td>\n",
       "      <td>427.24</td>\n",
       "      <td>434.19</td>\n",
       "      <td>110774792</td>\n",
       "    </tr>\n",
       "  </tbody>\n",
       "</table>\n",
       "</div>"
      ],
      "text/plain": [
       "               AGG                                         SPY            \\\n",
       "              open      high      low   close   volume    open      high   \n",
       "2021-09-27  115.21  115.3750  115.180  115.25  4433082  442.81  444.0500   \n",
       "2021-09-28  114.90  114.9999  114.695  114.78  6487248  439.69  440.0400   \n",
       "2021-09-29  114.97  115.0600  114.715  114.85  5099586  435.19  437.0400   \n",
       "2021-09-30  114.77  114.8600  114.690  114.83  4461194  436.02  436.7700   \n",
       "2021-10-01  114.82  115.0600  114.790  115.02  6840179  430.98  436.0329   \n",
       "\n",
       "                                       \n",
       "               low   close     volume  \n",
       "2021-09-27  441.90  442.68   51611925  \n",
       "2021-09-28  432.94  433.74  114959576  \n",
       "2021-09-29  433.85  434.44   69828191  \n",
       "2021-09-30  428.78  429.17  115315276  \n",
       "2021-10-01  427.24  434.19  110774792  "
      ]
     },
     "execution_count": 19,
     "metadata": {},
     "output_type": "execute_result"
    }
   ],
   "source": [
    "# Get 5 years' worth of historical data for SPY and AGG\n",
    "# (use a limit=1000 parameter to call the most recent 1000 days of data)\n",
    "tickers = [\"AGG\", \"SPY\"]\n",
    "df_stock_data = api.get_barset(tickers, timeframe, start=start_date, end=end_date).df\n",
    "# Set timefram to '1D\" for Alpaca API\n",
    "timeframe = \"1D\"\n",
    "df_stock_data = api.get_barset(\n",
    "    tickers,\n",
    "    timeframe,\n",
    "    start = start_date,\n",
    "    end = end_date,\n",
    "    limit = 1000).df\n",
    "# Drop the time component of the date\n",
    "df_stock_data.index=df_stock_data.index.date\n",
    "# Display sample data\n",
    "df_stock_data.tail()"
   ]
  },
  {
   "cell_type": "code",
   "execution_count": 23,
   "id": "459fedee-82cf-4af2-af1f-dd2768d5de4b",
   "metadata": {},
   "outputs": [],
   "source": [
    "# Configuring a Monte Carlo simulation to forecast 30 years cumulative returns\n",
    "MC_30_years = MCSimulation(\n",
    "    portfolio_data = df_stock_data, weights = [.40,.60],\n",
    "    num_simulation = 500, \n",
    "    num_trading_days = 252*30\n",
    ")"
   ]
  },
  {
   "cell_type": "code",
   "execution_count": 24,
   "id": "21e69ce1-db0f-46e8-af26-92aebc2862b2",
   "metadata": {},
   "outputs": [
    {
     "data": {
      "text/html": [
       "<div>\n",
       "<style scoped>\n",
       "    .dataframe tbody tr th:only-of-type {\n",
       "        vertical-align: middle;\n",
       "    }\n",
       "\n",
       "    .dataframe tbody tr th {\n",
       "        vertical-align: top;\n",
       "    }\n",
       "\n",
       "    .dataframe thead tr th {\n",
       "        text-align: left;\n",
       "    }\n",
       "</style>\n",
       "<table border=\"1\" class=\"dataframe\">\n",
       "  <thead>\n",
       "    <tr>\n",
       "      <th></th>\n",
       "      <th colspan=\"6\" halign=\"left\">AGG</th>\n",
       "      <th colspan=\"6\" halign=\"left\">SPY</th>\n",
       "    </tr>\n",
       "    <tr>\n",
       "      <th></th>\n",
       "      <th>open</th>\n",
       "      <th>high</th>\n",
       "      <th>low</th>\n",
       "      <th>close</th>\n",
       "      <th>volume</th>\n",
       "      <th>daily_return</th>\n",
       "      <th>open</th>\n",
       "      <th>high</th>\n",
       "      <th>low</th>\n",
       "      <th>close</th>\n",
       "      <th>volume</th>\n",
       "      <th>daily_return</th>\n",
       "    </tr>\n",
       "  </thead>\n",
       "  <tbody>\n",
       "    <tr>\n",
       "      <th>2017-10-12</th>\n",
       "      <td>109.56</td>\n",
       "      <td>109.61</td>\n",
       "      <td>109.48</td>\n",
       "      <td>109.61</td>\n",
       "      <td>1797948</td>\n",
       "      <td>NaN</td>\n",
       "      <td>254.66</td>\n",
       "      <td>255.06</td>\n",
       "      <td>254.365</td>\n",
       "      <td>254.60</td>\n",
       "      <td>32195167</td>\n",
       "      <td>NaN</td>\n",
       "    </tr>\n",
       "    <tr>\n",
       "      <th>2017-10-13</th>\n",
       "      <td>109.82</td>\n",
       "      <td>109.87</td>\n",
       "      <td>109.69</td>\n",
       "      <td>109.85</td>\n",
       "      <td>1573645</td>\n",
       "      <td>0.002190</td>\n",
       "      <td>255.14</td>\n",
       "      <td>255.27</td>\n",
       "      <td>254.640</td>\n",
       "      <td>254.91</td>\n",
       "      <td>33563533</td>\n",
       "      <td>0.001218</td>\n",
       "    </tr>\n",
       "    <tr>\n",
       "      <th>2017-10-16</th>\n",
       "      <td>109.75</td>\n",
       "      <td>109.81</td>\n",
       "      <td>109.66</td>\n",
       "      <td>109.74</td>\n",
       "      <td>3556213</td>\n",
       "      <td>-0.001001</td>\n",
       "      <td>255.21</td>\n",
       "      <td>255.51</td>\n",
       "      <td>254.820</td>\n",
       "      <td>255.30</td>\n",
       "      <td>25720677</td>\n",
       "      <td>0.001530</td>\n",
       "    </tr>\n",
       "    <tr>\n",
       "      <th>2017-10-17</th>\n",
       "      <td>109.62</td>\n",
       "      <td>109.74</td>\n",
       "      <td>109.55</td>\n",
       "      <td>109.70</td>\n",
       "      <td>1638086</td>\n",
       "      <td>-0.000364</td>\n",
       "      <td>255.24</td>\n",
       "      <td>255.52</td>\n",
       "      <td>254.980</td>\n",
       "      <td>255.46</td>\n",
       "      <td>23608473</td>\n",
       "      <td>0.000627</td>\n",
       "    </tr>\n",
       "    <tr>\n",
       "      <th>2017-10-18</th>\n",
       "      <td>109.51</td>\n",
       "      <td>109.56</td>\n",
       "      <td>109.46</td>\n",
       "      <td>109.53</td>\n",
       "      <td>1511319</td>\n",
       "      <td>-0.001550</td>\n",
       "      <td>255.90</td>\n",
       "      <td>255.95</td>\n",
       "      <td>255.500</td>\n",
       "      <td>255.69</td>\n",
       "      <td>25173613</td>\n",
       "      <td>0.000900</td>\n",
       "    </tr>\n",
       "  </tbody>\n",
       "</table>\n",
       "</div>"
      ],
      "text/plain": [
       "               AGG                                                   SPY  \\\n",
       "              open    high     low   close   volume daily_return    open   \n",
       "2017-10-12  109.56  109.61  109.48  109.61  1797948          NaN  254.66   \n",
       "2017-10-13  109.82  109.87  109.69  109.85  1573645     0.002190  255.14   \n",
       "2017-10-16  109.75  109.81  109.66  109.74  3556213    -0.001001  255.21   \n",
       "2017-10-17  109.62  109.74  109.55  109.70  1638086    -0.000364  255.24   \n",
       "2017-10-18  109.51  109.56  109.46  109.53  1511319    -0.001550  255.90   \n",
       "\n",
       "                                                            \n",
       "              high      low   close    volume daily_return  \n",
       "2017-10-12  255.06  254.365  254.60  32195167          NaN  \n",
       "2017-10-13  255.27  254.640  254.91  33563533     0.001218  \n",
       "2017-10-16  255.51  254.820  255.30  25720677     0.001530  \n",
       "2017-10-17  255.52  254.980  255.46  23608473     0.000627  \n",
       "2017-10-18  255.95  255.500  255.69  25173613     0.000900  "
      ]
     },
     "execution_count": 24,
     "metadata": {},
     "output_type": "execute_result"
    }
   ],
   "source": [
    "# Printing the simulation input data\n",
    "MC_30_years.portfolio_data.head()"
   ]
  },
  {
   "cell_type": "code",
   "execution_count": 26,
   "id": "733b14b6-fe7e-4dfa-bb57-ded21226427e",
   "metadata": {},
   "outputs": [
    {
     "name": "stdout",
     "output_type": "stream",
     "text": [
      "Running Monte Carlo simulation number 0.\n",
      "Running Monte Carlo simulation number 10.\n",
      "Running Monte Carlo simulation number 20.\n",
      "Running Monte Carlo simulation number 30.\n",
      "Running Monte Carlo simulation number 40.\n",
      "Running Monte Carlo simulation number 50.\n",
      "Running Monte Carlo simulation number 60.\n",
      "Running Monte Carlo simulation number 70.\n",
      "Running Monte Carlo simulation number 80.\n",
      "Running Monte Carlo simulation number 90.\n",
      "Running Monte Carlo simulation number 100.\n"
     ]
    },
    {
     "name": "stderr",
     "output_type": "stream",
     "text": [
      "C:\\Users\\wesleyromero308\\Desktop\\Rutgers-Fintech-Homework\\MCForecastTools.py:117: PerformanceWarning: DataFrame is highly fragmented.  This is usually the result of calling `frame.insert` many times, which has poor performance.  Consider joining all columns at once using pd.concat(axis=1) instead.  To get a de-fragmented frame, use `newframe = frame.copy()`\n",
      "  portfolio_cumulative_returns[n] = (1 + sim_df.fillna(0)).cumprod()\n"
     ]
    },
    {
     "name": "stdout",
     "output_type": "stream",
     "text": [
      "Running Monte Carlo simulation number 110.\n",
      "Running Monte Carlo simulation number 120.\n",
      "Running Monte Carlo simulation number 130.\n",
      "Running Monte Carlo simulation number 140.\n",
      "Running Monte Carlo simulation number 150.\n",
      "Running Monte Carlo simulation number 160.\n",
      "Running Monte Carlo simulation number 170.\n",
      "Running Monte Carlo simulation number 180.\n",
      "Running Monte Carlo simulation number 190.\n",
      "Running Monte Carlo simulation number 200.\n",
      "Running Monte Carlo simulation number 210.\n",
      "Running Monte Carlo simulation number 220.\n",
      "Running Monte Carlo simulation number 230.\n",
      "Running Monte Carlo simulation number 240.\n",
      "Running Monte Carlo simulation number 250.\n",
      "Running Monte Carlo simulation number 260.\n",
      "Running Monte Carlo simulation number 270.\n",
      "Running Monte Carlo simulation number 280.\n",
      "Running Monte Carlo simulation number 290.\n",
      "Running Monte Carlo simulation number 300.\n",
      "Running Monte Carlo simulation number 310.\n",
      "Running Monte Carlo simulation number 320.\n",
      "Running Monte Carlo simulation number 330.\n",
      "Running Monte Carlo simulation number 340.\n",
      "Running Monte Carlo simulation number 350.\n",
      "Running Monte Carlo simulation number 360.\n",
      "Running Monte Carlo simulation number 370.\n",
      "Running Monte Carlo simulation number 380.\n",
      "Running Monte Carlo simulation number 390.\n",
      "Running Monte Carlo simulation number 400.\n",
      "Running Monte Carlo simulation number 410.\n",
      "Running Monte Carlo simulation number 420.\n",
      "Running Monte Carlo simulation number 430.\n",
      "Running Monte Carlo simulation number 440.\n",
      "Running Monte Carlo simulation number 450.\n",
      "Running Monte Carlo simulation number 460.\n",
      "Running Monte Carlo simulation number 470.\n",
      "Running Monte Carlo simulation number 480.\n",
      "Running Monte Carlo simulation number 490.\n"
     ]
    },
    {
     "data": {
      "text/html": [
       "<div>\n",
       "<style scoped>\n",
       "    .dataframe tbody tr th:only-of-type {\n",
       "        vertical-align: middle;\n",
       "    }\n",
       "\n",
       "    .dataframe tbody tr th {\n",
       "        vertical-align: top;\n",
       "    }\n",
       "\n",
       "    .dataframe thead th {\n",
       "        text-align: right;\n",
       "    }\n",
       "</style>\n",
       "<table border=\"1\" class=\"dataframe\">\n",
       "  <thead>\n",
       "    <tr style=\"text-align: right;\">\n",
       "      <th></th>\n",
       "      <th>0</th>\n",
       "      <th>1</th>\n",
       "      <th>2</th>\n",
       "      <th>3</th>\n",
       "      <th>4</th>\n",
       "      <th>5</th>\n",
       "      <th>6</th>\n",
       "      <th>7</th>\n",
       "      <th>8</th>\n",
       "      <th>9</th>\n",
       "      <th>...</th>\n",
       "      <th>490</th>\n",
       "      <th>491</th>\n",
       "      <th>492</th>\n",
       "      <th>493</th>\n",
       "      <th>494</th>\n",
       "      <th>495</th>\n",
       "      <th>496</th>\n",
       "      <th>497</th>\n",
       "      <th>498</th>\n",
       "      <th>499</th>\n",
       "    </tr>\n",
       "  </thead>\n",
       "  <tbody>\n",
       "    <tr>\n",
       "      <th>0</th>\n",
       "      <td>1.000000</td>\n",
       "      <td>1.000000</td>\n",
       "      <td>1.000000</td>\n",
       "      <td>1.000000</td>\n",
       "      <td>1.000000</td>\n",
       "      <td>1.000000</td>\n",
       "      <td>1.000000</td>\n",
       "      <td>1.000000</td>\n",
       "      <td>1.000000</td>\n",
       "      <td>1.000000</td>\n",
       "      <td>...</td>\n",
       "      <td>1.000000</td>\n",
       "      <td>1.000000</td>\n",
       "      <td>1.000000</td>\n",
       "      <td>1.000000</td>\n",
       "      <td>1.000000</td>\n",
       "      <td>1.000000</td>\n",
       "      <td>1.000000</td>\n",
       "      <td>1.000000</td>\n",
       "      <td>1.000000</td>\n",
       "      <td>1.000000</td>\n",
       "    </tr>\n",
       "    <tr>\n",
       "      <th>1</th>\n",
       "      <td>0.988765</td>\n",
       "      <td>0.991952</td>\n",
       "      <td>0.999272</td>\n",
       "      <td>0.997903</td>\n",
       "      <td>1.004219</td>\n",
       "      <td>1.003418</td>\n",
       "      <td>1.007144</td>\n",
       "      <td>0.997646</td>\n",
       "      <td>1.001280</td>\n",
       "      <td>1.006060</td>\n",
       "      <td>...</td>\n",
       "      <td>0.995168</td>\n",
       "      <td>0.997822</td>\n",
       "      <td>0.994966</td>\n",
       "      <td>0.993637</td>\n",
       "      <td>1.005721</td>\n",
       "      <td>1.008762</td>\n",
       "      <td>0.996466</td>\n",
       "      <td>0.992433</td>\n",
       "      <td>1.003560</td>\n",
       "      <td>0.993314</td>\n",
       "    </tr>\n",
       "    <tr>\n",
       "      <th>2</th>\n",
       "      <td>0.984375</td>\n",
       "      <td>0.984196</td>\n",
       "      <td>1.000256</td>\n",
       "      <td>0.995674</td>\n",
       "      <td>1.012737</td>\n",
       "      <td>0.996508</td>\n",
       "      <td>1.004876</td>\n",
       "      <td>0.988164</td>\n",
       "      <td>0.996357</td>\n",
       "      <td>1.006362</td>\n",
       "      <td>...</td>\n",
       "      <td>0.981660</td>\n",
       "      <td>0.992672</td>\n",
       "      <td>0.999882</td>\n",
       "      <td>0.988912</td>\n",
       "      <td>1.031054</td>\n",
       "      <td>1.015472</td>\n",
       "      <td>1.007049</td>\n",
       "      <td>0.987794</td>\n",
       "      <td>1.015927</td>\n",
       "      <td>0.989929</td>\n",
       "    </tr>\n",
       "    <tr>\n",
       "      <th>3</th>\n",
       "      <td>0.978861</td>\n",
       "      <td>0.993636</td>\n",
       "      <td>0.987333</td>\n",
       "      <td>1.011059</td>\n",
       "      <td>1.012998</td>\n",
       "      <td>0.999932</td>\n",
       "      <td>1.004802</td>\n",
       "      <td>0.988654</td>\n",
       "      <td>0.991214</td>\n",
       "      <td>0.996564</td>\n",
       "      <td>...</td>\n",
       "      <td>0.971096</td>\n",
       "      <td>0.987203</td>\n",
       "      <td>0.995973</td>\n",
       "      <td>0.986075</td>\n",
       "      <td>1.039460</td>\n",
       "      <td>1.011311</td>\n",
       "      <td>1.011867</td>\n",
       "      <td>0.986437</td>\n",
       "      <td>1.015947</td>\n",
       "      <td>0.980341</td>\n",
       "    </tr>\n",
       "    <tr>\n",
       "      <th>4</th>\n",
       "      <td>0.978683</td>\n",
       "      <td>0.996329</td>\n",
       "      <td>0.987735</td>\n",
       "      <td>1.023000</td>\n",
       "      <td>1.034697</td>\n",
       "      <td>0.992223</td>\n",
       "      <td>1.005477</td>\n",
       "      <td>0.992689</td>\n",
       "      <td>0.982666</td>\n",
       "      <td>0.999195</td>\n",
       "      <td>...</td>\n",
       "      <td>0.974895</td>\n",
       "      <td>1.006115</td>\n",
       "      <td>0.995803</td>\n",
       "      <td>1.000392</td>\n",
       "      <td>1.030676</td>\n",
       "      <td>1.008913</td>\n",
       "      <td>1.012404</td>\n",
       "      <td>0.996424</td>\n",
       "      <td>1.007799</td>\n",
       "      <td>0.985147</td>\n",
       "    </tr>\n",
       "    <tr>\n",
       "      <th>...</th>\n",
       "      <td>...</td>\n",
       "      <td>...</td>\n",
       "      <td>...</td>\n",
       "      <td>...</td>\n",
       "      <td>...</td>\n",
       "      <td>...</td>\n",
       "      <td>...</td>\n",
       "      <td>...</td>\n",
       "      <td>...</td>\n",
       "      <td>...</td>\n",
       "      <td>...</td>\n",
       "      <td>...</td>\n",
       "      <td>...</td>\n",
       "      <td>...</td>\n",
       "      <td>...</td>\n",
       "      <td>...</td>\n",
       "      <td>...</td>\n",
       "      <td>...</td>\n",
       "      <td>...</td>\n",
       "      <td>...</td>\n",
       "      <td>...</td>\n",
       "    </tr>\n",
       "    <tr>\n",
       "      <th>7556</th>\n",
       "      <td>17.891600</td>\n",
       "      <td>26.207627</td>\n",
       "      <td>24.297135</td>\n",
       "      <td>7.343523</td>\n",
       "      <td>34.045189</td>\n",
       "      <td>21.685964</td>\n",
       "      <td>5.031761</td>\n",
       "      <td>27.095097</td>\n",
       "      <td>24.218568</td>\n",
       "      <td>10.920339</td>\n",
       "      <td>...</td>\n",
       "      <td>20.468810</td>\n",
       "      <td>8.475454</td>\n",
       "      <td>38.955294</td>\n",
       "      <td>26.795896</td>\n",
       "      <td>8.728204</td>\n",
       "      <td>16.750456</td>\n",
       "      <td>14.084526</td>\n",
       "      <td>14.585898</td>\n",
       "      <td>4.566491</td>\n",
       "      <td>10.630692</td>\n",
       "    </tr>\n",
       "    <tr>\n",
       "      <th>7557</th>\n",
       "      <td>17.737626</td>\n",
       "      <td>26.089848</td>\n",
       "      <td>24.171204</td>\n",
       "      <td>7.384064</td>\n",
       "      <td>33.889337</td>\n",
       "      <td>21.744826</td>\n",
       "      <td>5.064478</td>\n",
       "      <td>27.610840</td>\n",
       "      <td>24.342584</td>\n",
       "      <td>10.799300</td>\n",
       "      <td>...</td>\n",
       "      <td>20.435576</td>\n",
       "      <td>8.416991</td>\n",
       "      <td>38.636796</td>\n",
       "      <td>26.643795</td>\n",
       "      <td>8.705289</td>\n",
       "      <td>16.605015</td>\n",
       "      <td>14.141224</td>\n",
       "      <td>14.375100</td>\n",
       "      <td>4.555273</td>\n",
       "      <td>10.521568</td>\n",
       "    </tr>\n",
       "    <tr>\n",
       "      <th>7558</th>\n",
       "      <td>17.498575</td>\n",
       "      <td>26.037190</td>\n",
       "      <td>23.865227</td>\n",
       "      <td>7.398936</td>\n",
       "      <td>33.440454</td>\n",
       "      <td>21.673588</td>\n",
       "      <td>5.028034</td>\n",
       "      <td>27.613541</td>\n",
       "      <td>24.323322</td>\n",
       "      <td>10.829924</td>\n",
       "      <td>...</td>\n",
       "      <td>20.466202</td>\n",
       "      <td>8.464720</td>\n",
       "      <td>38.608680</td>\n",
       "      <td>26.364421</td>\n",
       "      <td>8.830737</td>\n",
       "      <td>16.517533</td>\n",
       "      <td>14.059388</td>\n",
       "      <td>14.435436</td>\n",
       "      <td>4.575702</td>\n",
       "      <td>10.677876</td>\n",
       "    </tr>\n",
       "    <tr>\n",
       "      <th>7559</th>\n",
       "      <td>17.478932</td>\n",
       "      <td>25.934779</td>\n",
       "      <td>23.966858</td>\n",
       "      <td>7.375707</td>\n",
       "      <td>33.755207</td>\n",
       "      <td>21.651970</td>\n",
       "      <td>5.018616</td>\n",
       "      <td>27.843773</td>\n",
       "      <td>24.158162</td>\n",
       "      <td>10.940636</td>\n",
       "      <td>...</td>\n",
       "      <td>20.408776</td>\n",
       "      <td>8.573876</td>\n",
       "      <td>38.452833</td>\n",
       "      <td>26.197830</td>\n",
       "      <td>8.824508</td>\n",
       "      <td>16.535293</td>\n",
       "      <td>14.103550</td>\n",
       "      <td>14.361136</td>\n",
       "      <td>4.545233</td>\n",
       "      <td>10.720607</td>\n",
       "    </tr>\n",
       "    <tr>\n",
       "      <th>7560</th>\n",
       "      <td>17.514886</td>\n",
       "      <td>26.024268</td>\n",
       "      <td>23.870377</td>\n",
       "      <td>7.269831</td>\n",
       "      <td>33.591157</td>\n",
       "      <td>21.755372</td>\n",
       "      <td>5.070861</td>\n",
       "      <td>28.021053</td>\n",
       "      <td>24.018033</td>\n",
       "      <td>10.845732</td>\n",
       "      <td>...</td>\n",
       "      <td>20.414137</td>\n",
       "      <td>8.566086</td>\n",
       "      <td>38.437567</td>\n",
       "      <td>26.745109</td>\n",
       "      <td>8.871495</td>\n",
       "      <td>16.498920</td>\n",
       "      <td>14.250918</td>\n",
       "      <td>14.248297</td>\n",
       "      <td>4.450842</td>\n",
       "      <td>10.742626</td>\n",
       "    </tr>\n",
       "  </tbody>\n",
       "</table>\n",
       "<p>7561 rows × 500 columns</p>\n",
       "</div>"
      ],
      "text/plain": [
       "            0          1          2         3          4          5    \\\n",
       "0      1.000000   1.000000   1.000000  1.000000   1.000000   1.000000   \n",
       "1      0.988765   0.991952   0.999272  0.997903   1.004219   1.003418   \n",
       "2      0.984375   0.984196   1.000256  0.995674   1.012737   0.996508   \n",
       "3      0.978861   0.993636   0.987333  1.011059   1.012998   0.999932   \n",
       "4      0.978683   0.996329   0.987735  1.023000   1.034697   0.992223   \n",
       "...         ...        ...        ...       ...        ...        ...   \n",
       "7556  17.891600  26.207627  24.297135  7.343523  34.045189  21.685964   \n",
       "7557  17.737626  26.089848  24.171204  7.384064  33.889337  21.744826   \n",
       "7558  17.498575  26.037190  23.865227  7.398936  33.440454  21.673588   \n",
       "7559  17.478932  25.934779  23.966858  7.375707  33.755207  21.651970   \n",
       "7560  17.514886  26.024268  23.870377  7.269831  33.591157  21.755372   \n",
       "\n",
       "           6          7          8          9    ...        490       491  \\\n",
       "0     1.000000   1.000000   1.000000   1.000000  ...   1.000000  1.000000   \n",
       "1     1.007144   0.997646   1.001280   1.006060  ...   0.995168  0.997822   \n",
       "2     1.004876   0.988164   0.996357   1.006362  ...   0.981660  0.992672   \n",
       "3     1.004802   0.988654   0.991214   0.996564  ...   0.971096  0.987203   \n",
       "4     1.005477   0.992689   0.982666   0.999195  ...   0.974895  1.006115   \n",
       "...        ...        ...        ...        ...  ...        ...       ...   \n",
       "7556  5.031761  27.095097  24.218568  10.920339  ...  20.468810  8.475454   \n",
       "7557  5.064478  27.610840  24.342584  10.799300  ...  20.435576  8.416991   \n",
       "7558  5.028034  27.613541  24.323322  10.829924  ...  20.466202  8.464720   \n",
       "7559  5.018616  27.843773  24.158162  10.940636  ...  20.408776  8.573876   \n",
       "7560  5.070861  28.021053  24.018033  10.845732  ...  20.414137  8.566086   \n",
       "\n",
       "            492        493       494        495        496        497  \\\n",
       "0      1.000000   1.000000  1.000000   1.000000   1.000000   1.000000   \n",
       "1      0.994966   0.993637  1.005721   1.008762   0.996466   0.992433   \n",
       "2      0.999882   0.988912  1.031054   1.015472   1.007049   0.987794   \n",
       "3      0.995973   0.986075  1.039460   1.011311   1.011867   0.986437   \n",
       "4      0.995803   1.000392  1.030676   1.008913   1.012404   0.996424   \n",
       "...         ...        ...       ...        ...        ...        ...   \n",
       "7556  38.955294  26.795896  8.728204  16.750456  14.084526  14.585898   \n",
       "7557  38.636796  26.643795  8.705289  16.605015  14.141224  14.375100   \n",
       "7558  38.608680  26.364421  8.830737  16.517533  14.059388  14.435436   \n",
       "7559  38.452833  26.197830  8.824508  16.535293  14.103550  14.361136   \n",
       "7560  38.437567  26.745109  8.871495  16.498920  14.250918  14.248297   \n",
       "\n",
       "           498        499  \n",
       "0     1.000000   1.000000  \n",
       "1     1.003560   0.993314  \n",
       "2     1.015927   0.989929  \n",
       "3     1.015947   0.980341  \n",
       "4     1.007799   0.985147  \n",
       "...        ...        ...  \n",
       "7556  4.566491  10.630692  \n",
       "7557  4.555273  10.521568  \n",
       "7558  4.575702  10.677876  \n",
       "7559  4.545233  10.720607  \n",
       "7560  4.450842  10.742626  \n",
       "\n",
       "[7561 rows x 500 columns]"
      ]
     },
     "execution_count": 26,
     "metadata": {},
     "output_type": "execute_result"
    }
   ],
   "source": [
    "# Running a Monte Carlo simulation to forecast 30 years cumulative returns\n",
    "MC_30_years.calc_cumulative_return()"
   ]
  },
  {
   "cell_type": "code",
   "execution_count": 38,
   "id": "c27ff387-2939-42a2-819a-088e6708c36e",
   "metadata": {},
   "outputs": [
    {
     "data": {
      "image/png": "[encoded data removed]",
      "text/plain": [
       "<Figure size 432x288 with 1 Axes>"
      ]
     },
     "metadata": {
      "needs_background": "light"
     },
     "output_type": "display_data"
    }
   ],
   "source": [
    "# Plot simulation outcomes\n",
    "line_plot = MC_30_years.plot_simulation()"
   ]
  },
  {
   "cell_type": "code",
   "execution_count": 37,
   "id": "1b2215c1-9a34-448a-bec4-a58eb2e5f051",
   "metadata": {},
   "outputs": [
    {
     "data": {
      "image/png": "[encoded data removed]",
      "text/plain": [
       "<Figure size 432x288 with 1 Axes>"
      ]
     },
     "metadata": {
      "needs_background": "light"
     },
     "output_type": "display_data"
    }
   ],
   "source": [
    "# Plot probability distribution and confidence intervals\n",
    "dist_plot = MC_30_years.plot_distribution()"
   ]
  },
  {
   "cell_type": "markdown",
   "id": "148699bf-4f4e-44b3-8cfa-b46da41fa4c9",
   "metadata": {},
   "source": [
    "## Retirement Analysis"
   ]
  },
  {
   "cell_type": "code",
   "execution_count": 39,
   "id": "c8092d36-e7ec-4b08-9292-f38dca637c7e",
   "metadata": {},
   "outputs": [
    {
     "name": "stdout",
     "output_type": "stream",
     "text": [
      "count           500.000000\n",
      "mean             19.036684\n",
      "std              16.228350\n",
      "min               1.578925\n",
      "25%               9.485060\n",
      "50%              15.056223\n",
      "75%              24.038762\n",
      "max             239.574326\n",
      "95% CI Lower      4.037280\n",
      "95% CI Upper     49.421526\n",
      "Name: 7560, dtype: float64\n"
     ]
    }
   ],
   "source": [
    "# Fetch summary statistics from the Monte Carlo simulation results\n",
    "tbl = MC_30_years.summarize_cumulative_return()\n",
    "\n",
    "# Print summary statistics\n",
    "print(tbl)"
   ]
  },
  {
   "cell_type": "markdown",
   "id": "07ee501a-a9e6-44f1-b418-b1511758f856",
   "metadata": {},
   "source": [
    "## Calculate the expected portfolio return at the 95% lower and upper confidence intervals based on a $20,000 initial investment."
   ]
  },
  {
   "cell_type": "code",
   "execution_count": 40,
   "id": "3d32758e-c34b-414d-a628-038430ac78f6",
   "metadata": {},
   "outputs": [
    {
     "name": "stdout",
     "output_type": "stream",
     "text": [
      "There is a 95% chance that an initial investment of $20000 in the portfolio over the next 30 years will end within in the range of $80745.61 and $988430.51\n"
     ]
    }
   ],
   "source": [
    "# Set initial investment\n",
    "initial_investment = 20000\n",
    "\n",
    "# Use the lower and upper `95%` confidence intervals to calculate the range of the possible outcomes of our $20,000\n",
    "ci_lower = round(tbl[8]*20000,2)\n",
    "ci_upper = round(tbl[9]*20000,2)\n",
    "\n",
    "# Print results\n",
    "print(f\"There is a 95% chance that an initial investment of ${initial_investment} in the portfolio\"\n",
    "      f\" over the next 30 years will end within in the range of\"\n",
    "      f\" ${ci_lower} and ${ci_upper}\")"
   ]
  },
  {
   "cell_type": "markdown",
   "id": "75986fbf-6987-46a7-b598-0c5de3e3b19f",
   "metadata": {},
   "source": [
    "## Calculate the expected portfolio return at the 95% lower and upper confidence intervals based on a 50% increase in the initial investment."
   ]
  },
  {
   "cell_type": "code",
   "execution_count": 43,
   "id": "012425a3-f732-4713-b5fb-b7637c28b0a7",
   "metadata": {},
   "outputs": [
    {
     "name": "stdout",
     "output_type": "stream",
     "text": [
      "There is a 95% chance that an initial investment of $30000.0 in the portfolio over the next 30 years will end within in the range of $121118.41 and $1482645.77\n"
     ]
    }
   ],
   "source": [
    "# Set initial investment\n",
    "initial_investment = 20000 * 1.5\n",
    "\n",
    "# Use the lower and upper `95%` confidence intervals to calculate the range of the possible outcomes of our $30,000\n",
    "ci_lower = round(tbl[8]*30000,2)\n",
    "ci_upper = round(tbl[9]*30000,2)\n",
    "\n",
    "# Print results\n",
    "print(f\"There is a 95% chance that an initial investment of ${initial_investment} in the portfolio\"\n",
    "      f\" over the next 30 years will end within in the range of\"\n",
    "      f\" ${ci_lower} and ${ci_upper}\")"
   ]
  },
  {
   "cell_type": "code",
   "execution_count": null,
   "id": "a04cc1d5-59bb-4ccb-8377-33f156b8a5e2",
   "metadata": {},
   "outputs": [],
   "source": []
  }
 ],
 "metadata": {
  "kernelspec": {
   "display_name": "Python 3 (ipykernel)",
   "language": "python",
   "name": "python3"
  },
  "language_info": {
   "codemirror_mode": {
    "name": "ipython",
    "version": 3
   },
   "file_extension": ".py",
   "mimetype": "text/x-python",
   "name": "python",
   "nbconvert_exporter": "python",
   "pygments_lexer": "ipython3",
   "version": "3.8.8"
  }
 },
 "nbformat": 4,
 "nbformat_minor": 5
}
